{
 "cells": [
  {
   "cell_type": "markdown",
   "id": "67b0972e",
   "metadata": {},
   "source": [
    "# METHOD II: K-MEANS APPROACH"
   ]
  },
  {
   "cell_type": "code",
   "execution_count": 10,
   "id": "c4bfdfd6",
   "metadata": {},
   "outputs": [
    {
     "name": "stdout",
     "output_type": "stream",
     "text": [
      "The autoreload extension is already loaded. To reload it, use:\n",
      "  %reload_ext autoreload\n"
     ]
    }
   ],
   "source": [
    "%load_ext autoreload\n",
    "%autoreload"
   ]
  },
  {
   "cell_type": "code",
   "execution_count": 11,
   "id": "2067f40a",
   "metadata": {},
   "outputs": [],
   "source": [
    "from PRISMA_SDS import PRIS_tools, PRIS_Shoreline\n",
    "\n",
    "import os\n",
    "import warnings\n",
    "warnings.filterwarnings(\"ignore\")"
   ]
  },
  {
   "cell_type": "code",
   "execution_count": 12,
   "id": "c7ddc9b7",
   "metadata": {},
   "outputs": [],
   "source": [
    "# Define the beach to be analyzed"
   ]
  },
  {
   "cell_type": "code",
   "execution_count": 13,
   "id": "6a198e0c",
   "metadata": {},
   "outputs": [],
   "source": [
    "path0 = os.getcwd()\n",
    "scene = 'FR'\n",
    "beach = 'FR02'\n",
    "\n",
    "paths = PRIS_tools.generate_structure(path0, scene, beach)"
   ]
  },
  {
   "cell_type": "markdown",
   "id": "9916037c",
   "metadata": {},
   "source": [
    "Define the Spatial Attraction Model (SAM) input parameters"
   ]
  },
  {
   "cell_type": "code",
   "execution_count": 17,
   "id": "57547e22",
   "metadata": {},
   "outputs": [],
   "source": [
    "S = 4 # How many pixels are formed inside each original pixel = S^2; S = 4 is the maximum value\n",
    "t = 2 # type of neighbourhood. This  is the  recommended value"
   ]
  },
  {
   "cell_type": "code",
   "execution_count": 19,
   "id": "921f3810",
   "metadata": {},
   "outputs": [
    {
     "name": "stdout",
     "output_type": "stream",
     "text": [
      "Applying the Spatial Attraction model...\n"
     ]
    }
   ],
   "source": [
    "PRIS_Shoreline.KmeansMethod(paths, S, t)"
   ]
  },
  {
   "cell_type": "code",
   "execution_count": null,
   "id": "d91cc966",
   "metadata": {},
   "outputs": [],
   "source": []
  }
 ],
 "metadata": {
  "kernelspec": {
   "display_name": "Python 3",
   "language": "python",
   "name": "python3"
  },
  "language_info": {
   "codemirror_mode": {
    "name": "ipython",
    "version": 3
   },
   "file_extension": ".py",
   "mimetype": "text/x-python",
   "name": "python",
   "nbconvert_exporter": "python",
   "pygments_lexer": "ipython3",
   "version": "3.8.11"
  }
 },
 "nbformat": 4,
 "nbformat_minor": 5
}

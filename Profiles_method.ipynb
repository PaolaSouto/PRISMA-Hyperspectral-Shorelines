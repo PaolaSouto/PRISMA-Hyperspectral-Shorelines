{
 "cells": [
  {
   "cell_type": "markdown",
   "id": "3fad9ae5",
   "metadata": {},
   "source": [
    "# METHOD I: PROFILES APPROACH"
   ]
  },
  {
   "cell_type": "markdown",
   "id": "cc5ec661",
   "metadata": {},
   "source": [
    "This code allows to obtain the Satellite-Derived-Shorelines with the Profiles method"
   ]
  },
  {
   "cell_type": "code",
   "execution_count": 1,
   "id": "c2bf2fc5",
   "metadata": {},
   "outputs": [],
   "source": [
    "%load_ext autoreload\n",
    "%autoreload"
   ]
  },
  {
   "cell_type": "code",
   "execution_count": 2,
   "id": "528b0e42",
   "metadata": {},
   "outputs": [],
   "source": [
    "import os\n",
    "import sys\n",
    "\n",
    "from PRISMA_SDS import PRIS_tools, PRIS_Shoreline"
   ]
  },
  {
   "cell_type": "code",
   "execution_count": 3,
   "id": "bd9d8200",
   "metadata": {},
   "outputs": [],
   "source": [
    "path0 = '/media/sf_VBox_Shared/PAOLA/Github_HyperSho/'\n",
    "scene = 'FR'"
   ]
  },
  {
   "cell_type": "code",
   "execution_count": 4,
   "id": "dca16c2d",
   "metadata": {},
   "outputs": [],
   "source": [
    "beach = 'FR02'\n",
    "paths = PRIS_tools.generate_structure(path0, scene, beach)"
   ]
  },
  {
   "cell_type": "code",
   "execution_count": 6,
   "id": "8fb48e08",
   "metadata": {},
   "outputs": [
    {
     "name": "stdout",
     "output_type": "stream",
     "text": [
      "Analyzing imgage:  FR02_20211202103824_PANS_sub.tiff\n",
      " Analyzing PR66"
     ]
    }
   ],
   "source": [
    "dir_inter_profInf = os.path.join(paths['scene'], beach, 'Results', 'Profiles_info', 'csv')\n",
    "\n",
    "if not os.path.exists(dir_inter_profInf):\n",
    "    os.makedirs(dir_inter_profInf)\n",
    "\n",
    "\n",
    "paths['Profiles_info'] = dir_inter_profInf\n",
    "\n",
    "PRIS_Shoreline.ProfilesMethod(paths)"
   ]
  },
  {
   "cell_type": "code",
   "execution_count": null,
   "id": "ebdd9a2f",
   "metadata": {},
   "outputs": [],
   "source": []
  },
  {
   "cell_type": "code",
   "execution_count": null,
   "id": "845281ca",
   "metadata": {},
   "outputs": [],
   "source": []
  }
 ],
 "metadata": {
  "kernelspec": {
   "display_name": "Python 3",
   "language": "python",
   "name": "python3"
  },
  "language_info": {
   "codemirror_mode": {
    "name": "ipython",
    "version": 3
   },
   "file_extension": ".py",
   "mimetype": "text/x-python",
   "name": "python",
   "nbconvert_exporter": "python",
   "pygments_lexer": "ipython3",
   "version": "3.8.11"
  }
 },
 "nbformat": 4,
 "nbformat_minor": 5
}

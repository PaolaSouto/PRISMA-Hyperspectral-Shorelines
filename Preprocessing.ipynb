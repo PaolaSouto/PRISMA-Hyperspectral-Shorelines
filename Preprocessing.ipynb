{
 "cells": [
  {
   "cell_type": "markdown",
   "id": "129c82db",
   "metadata": {},
   "source": [
    "# BEFORE OBTAIN THE SDS ..."
   ]
  },
  {
   "cell_type": "markdown",
   "id": "eea366e3",
   "metadata": {},
   "source": [
    "This code shows how to prepare the needed files and directories obtain the Satellite-Derived-Shorelines."
   ]
  },
  {
   "cell_type": "code",
   "execution_count": 42,
   "id": "c6b74a1d",
   "metadata": {},
   "outputs": [
    {
     "name": "stdout",
     "output_type": "stream",
     "text": [
      "The autoreload extension is already loaded. To reload it, use:\n",
      "  %reload_ext autoreload\n"
     ]
    }
   ],
   "source": [
    "%load_ext autoreload\n",
    "%autoreload"
   ]
  },
  {
   "cell_type": "code",
   "execution_count": 43,
   "id": "a0098851",
   "metadata": {},
   "outputs": [],
   "source": [
    "import os\n",
    "import pandas as pd\n",
    "import numpy as np\n",
    "from PRISMA_SDS import PRIS_tools, PRIS_img, PRIS_profiles\n",
    "\n",
    "import warnings\n",
    "warnings.filterwarnings(\"ignore\")\n",
    "\n",
    "import matplotlib\n",
    "import matplotlib.pyplot as plt\n",
    "\n",
    "plt.ion()\n",
    "%matplotlib qt\n",
    "matplotlib.use(\"Qt5Agg\")\n",
    "\n",
    "\n",
    "import geopandas as gpd"
   ]
  },
  {
   "cell_type": "markdown",
   "id": "c7de8425",
   "metadata": {},
   "source": [
    "><ins>***For temporal analysis, it is recommended to georeference the PRISMA images zone/zones of interest to one reference image or with Ground Truth points coordinates if available. This will avoid the errors introduced by possible significant geo-accuracy errors between images.***</ins>"
   ]
  },
  {
   "cell_type": "markdown",
   "id": "10f86abd",
   "metadata": {},
   "source": [
    "**ENSURE PSYPTOOLS is installed**\n",
    "___"
   ]
  },
  {
   "cell_type": "code",
   "execution_count": null,
   "id": "dbe4432b",
   "metadata": {},
   "outputs": [],
   "source": [
    "# Why I have to install it?\n",
    "pip install pysptools"
   ]
  },
  {
   "cell_type": "markdown",
   "id": "de8d48f8",
   "metadata": {},
   "source": [
    "###  **1. DEFINE THE DIRECTORIES**\n",
    "\n",
    "---"
   ]
  },
  {
   "cell_type": "code",
   "execution_count": 3,
   "id": "5b64dd87",
   "metadata": {},
   "outputs": [],
   "source": [
    "path0 = os.getcwd()\n",
    "dir_scenes = os.path.join(path0, 'SCENES')\n",
    "\n",
    "try:\n",
    "    os.path.exists(dir_scenes)\n",
    "except:\n",
    "    os.makedirs(dir_scenes)"
   ]
  },
  {
   "cell_type": "markdown",
   "id": "09e16623",
   "metadata": {},
   "source": [
    "Generate directories of the countries and beaches to be studied, inside the previously generated SCENES folder:\n",
    "\n",
    "    * Countries should be named with a 2-letter code (e.g. Francia --> FR)\n",
    "    * Beaches should be named with a code of 2 letters + 1 number (e.g. Beach 1 in FR, FR01)"
   ]
  },
  {
   "cell_type": "code",
   "execution_count": 4,
   "id": "463a2116",
   "metadata": {},
   "outputs": [],
   "source": [
    "# Prepare specific beach files\n",
    "\n",
    "scene = 'FR' \n",
    "beach = 'FR02'\n",
    "\n",
    "paths = PRIS_tools.generate_structure(path0, scene, beach)"
   ]
  },
  {
   "cell_type": "markdown",
   "id": "d8cebe3f",
   "metadata": {},
   "source": [
    "### 2. PREPARE THE IMAGES FOR THE SDS EXTRACTION PROCESS\n",
    "\n",
    "---"
   ]
  },
  {
   "cell_type": "markdown",
   "id": "653a4456",
   "metadata": {},
   "source": [
    "><ins>***IN BOTH CASES, IT IS RECOMMENDED TO CHECK THE IMAGES GEO-ACCURACY, AND CO-REGISTRATE IT IF NECESSARY.***</ins> \n"
   ]
  },
  {
   "cell_type": "markdown",
   "id": "e3812b2a",
   "metadata": {},
   "source": [
    "    A. The availble image/images are the original 30*30 meters scenes in he5 format.\n",
    "       The original PRISMA image/images should be placed inside the country folder with its original name.    "
   ]
  },
  {
   "cell_type": "code",
   "execution_count": 5,
   "id": "36880fc2",
   "metadata": {},
   "outputs": [
    {
     "name": "stdout",
     "output_type": "stream",
     "text": [
      "The total number of images:  0\n"
     ]
    }
   ],
   "source": [
    "# Transform the PAN image from the he5 format into TIFF\n",
    "\n",
    "error_matrix = False\n",
    "\n",
    "PRIS_img.generate_PAN(paths, error_matrix)"
   ]
  },
  {
   "cell_type": "code",
   "execution_count": 5,
   "id": "4722e12b",
   "metadata": {},
   "outputs": [
    {
     "name": "stdout",
     "output_type": "stream",
     "text": [
      "The total number of images:  1\n",
      "Saved HS images:  100.0 %\r"
     ]
    }
   ],
   "source": [
    "# Transform the HS cube from the he5 format into TIFF\n",
    "\n",
    "error_matrix = False\n",
    "save_rgb = False\n",
    "\n",
    "PRIS_img.generate_HS(paths, error_matrix, save_rgb)"
   ]
  },
  {
   "cell_type": "code",
   "execution_count": 48,
   "id": "86ebeb32",
   "metadata": {},
   "outputs": [],
   "source": [
    "# Define the square parameters, which defines the image area of interest\n",
    "\n",
    "coords_upper_left = [4700, 3657] # column and row in image coordinates of the PAN image (../SCENES/scene/PAN)\n",
    "square_length = 1000 # in meters\n",
    "square_height = 300 # in meters"
   ]
  },
  {
   "cell_type": "code",
   "execution_count": 49,
   "id": "417ae9eb",
   "metadata": {},
   "outputs": [
    {
     "name": "stdout",
     "output_type": "stream",
     "text": [
      "... working on FR02_20211202103824_HS_sub.\n",
      "... working on FR02_20211202103824_PAN_sub.\n"
     ]
    }
   ],
   "source": [
    "PRIS_img.CropToSquare(coords_upper_left, square_length, square_height, paths, beach)"
   ]
  },
  {
   "cell_type": "markdown",
   "id": "c65b53d9",
   "metadata": {},
   "source": [
    "    B. Add the square cropped image.\n",
    "    \n",
    "       The hyperspectral component (HS) and the panchromatic (PAN) one in TIFF format should be placed \n",
    "       in their correspondent directories:\n",
    "    \n",
    "        * Square cropped PAN: ../SCENES/Country(FR)/Beach(FR01)/PAN/Square_Cropped\n",
    "        * Square cropped HS:  ../SCENES/Country(FR)/Beach(FR01)/HS/Square_Cropped\n",
    "        \n",
    "       The components should be named as follows:\n",
    "       \n",
    "        * Square cropped PAN: Beach_YYYYmmddHHmmSS_PAN_sub.tiff (FR01_20211202103824_PAN_sub.tiff)\n",
    "        * Square cropped HS:  Beach_YYYYmmddHHmmSS_HS_sub.tiff (FR01_20211202103824_HS_sub.tiff)\n",
    "         \n",
    "    "
   ]
  },
  {
   "cell_type": "markdown",
   "id": "dba88bb7",
   "metadata": {},
   "source": [
    "><font color='darkred'>**With both options, the relation between HS and PAN sizes should meet: <br><br> &emsp; $\\frac{PAN_{rows}}{HS_{rows}}$ = 6,    &emsp;      $\\frac{PAN_{columns}}{HS_{columns}}$ = 6** <br><br> **This relation is mandatory to perform the image pansharpening.**</font> "
   ]
  },
  {
   "cell_type": "markdown",
   "id": "794d75bc",
   "metadata": {},
   "source": [
    "### **3. PANSHARP THE IMAGES**\n",
    "\n",
    "---"
   ]
  },
  {
   "cell_type": "code",
   "execution_count": 50,
   "id": "32f3cb66",
   "metadata": {},
   "outputs": [
    {
     "name": "stdout",
     "output_type": "stream",
     "text": [
      "Step 1: Filter application ...\n",
      "Step 2: Calculating synthetic intensity ...\n",
      "Step 3: Obtaining coefficients ...\n",
      "Step 4: Performing fusion ...\n",
      "Step 5: Reshape the fused matrix ...\n",
      "A total of 1 panSharpened images have been saved\n"
     ]
    }
   ],
   "source": [
    "PRIS_img.PanSharpening(paths)"
   ]
  },
  {
   "cell_type": "markdown",
   "id": "551b1ce8",
   "metadata": {},
   "source": [
    "### **4. CLICK THE BASELINE DELIMITING THE BEACH**\n",
    "\n",
    "---"
   ]
  },
  {
   "cell_type": "markdown",
   "id": "d656ba3e",
   "metadata": {},
   "source": [
    "Click the terrestial limit of the aerial beach. <br>\n",
    "The baseline should be located inside the beach and not on the zones behid it."
   ]
  },
  {
   "cell_type": "code",
   "execution_count": 51,
   "id": "d6f23955",
   "metadata": {},
   "outputs": [
    {
     "data": {
      "text/plain": [
       "<PRISMA_SDS.PRIS_profiles.BaselineGenerator at 0x7f6e653f6400>"
      ]
     },
     "execution_count": 51,
     "metadata": {},
     "output_type": "execute_result"
    }
   ],
   "source": [
    "PRIS_profiles.BaselineGenerator(paths)"
   ]
  },
  {
   "cell_type": "markdown",
   "id": "13e0d407",
   "metadata": {},
   "source": [
    "### 5. GENERATE THE PROFILES\n",
    "\n",
    "---"
   ]
  },
  {
   "cell_type": "markdown",
   "id": "4c81d8c6",
   "metadata": {},
   "source": [
    "    1. Automatically generate the shore normal profiles indicating their: length and rotation"
   ]
  },
  {
   "cell_type": "code",
   "execution_count": 52,
   "id": "74e747a3",
   "metadata": {},
   "outputs": [
    {
     "name": "stdout",
     "output_type": "stream",
     "text": [
      "The profiles have been generated...\n"
     ]
    }
   ],
   "source": [
    "length = 120  # profiles length, the profiles should be long enougth to \n",
    "rotation = 85 # degrees that the profiles will be rotated\n",
    "sense = 'negative' # + rotates clockwise and - anti\n",
    "\n",
    "PRIS_profiles.AutomaticProfiles(paths, sense, length, rotation, 0)"
   ]
  },
  {
   "cell_type": "markdown",
   "id": "298590e7",
   "metadata": {},
   "source": [
    "    2. Add the pre-defined profiles in SHP format.\n",
    "    \n",
    "        The shapefile should be located in ../SCENES/Country(FR)/Beach(FR01)/QGIS/Profiles and named as:\n",
    "        Beach_date_rotation_profiles.shp (FR01_20211202103824_85_profiles.shp)"
   ]
  },
  {
   "cell_type": "markdown",
   "id": "aaa3d375",
   "metadata": {},
   "source": [
    "### **6. GENERATE THE BEACH CROPPED PANSHARPENED IMAGES**\n",
    "\n",
    "---"
   ]
  },
  {
   "cell_type": "code",
   "execution_count": 53,
   "id": "15091789",
   "metadata": {},
   "outputs": [
    {
     "name": "stdout",
     "output_type": "stream",
     "text": [
      "Creating:  FR02_20211202103824_PANS_BeachArea.tiff\n"
     ]
    }
   ],
   "source": [
    "PRIS_tools.beach_crop_shapefile(paths)\n",
    "PRIS_img.crop_PanSharp_to_beach(paths)"
   ]
  },
  {
   "cell_type": "markdown",
   "id": "3adc4b00",
   "metadata": {},
   "source": [
    "### **7. GENERATE THE IMAGE GRID FILE**\n",
    "\n",
    "---"
   ]
  },
  {
   "cell_type": "code",
   "execution_count": 54,
   "id": "95bcd3e5",
   "metadata": {},
   "outputs": [
    {
     "name": "stdout",
     "output_type": "stream",
     "text": [
      "Analyzing imgage:  FR02_20211202103824_PANS_sub.tiff\n"
     ]
    }
   ],
   "source": [
    "PRIS_img.Generate_GridRaster(paths)"
   ]
  },
  {
   "cell_type": "code",
   "execution_count": null,
   "id": "3161cac6",
   "metadata": {},
   "outputs": [],
   "source": []
  },
  {
   "cell_type": "markdown",
   "id": "8e9890e6",
   "metadata": {},
   "source": [
    "Two folder structures expamples necessary to run the jupyter notebooks are provided inside the folder SCENES"
   ]
  },
  {
   "cell_type": "code",
   "execution_count": null,
   "id": "330eeddd",
   "metadata": {},
   "outputs": [],
   "source": []
  }
 ],
 "metadata": {
  "kernelspec": {
   "display_name": "Python 3",
   "language": "python",
   "name": "python3"
  },
  "language_info": {
   "codemirror_mode": {
    "name": "ipython",
    "version": 3
   },
   "file_extension": ".py",
   "mimetype": "text/x-python",
   "name": "python",
   "nbconvert_exporter": "python",
   "pygments_lexer": "ipython3",
   "version": "3.8.11"
  }
 },
 "nbformat": 4,
 "nbformat_minor": 5
}
